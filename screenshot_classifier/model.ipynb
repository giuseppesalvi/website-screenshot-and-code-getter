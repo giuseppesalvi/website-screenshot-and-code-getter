{
 "cells": [
  {
   "cell_type": "markdown",
   "metadata": {
    "id": "-dGnAcJWfuz0"
   },
   "source": [
    "# Import libraries"
   ]
  },
  {
   "cell_type": "code",
   "execution_count": null,
   "metadata": {
    "id": "xAhlSlvKwfb8"
   },
   "outputs": [],
   "source": [
    "import os\n",
    "import random\n",
    "import numpy as np\n",
    "import tensorflow as tf\n",
    "from keras.models import Sequential\n",
    "from keras.metrics import Precision, Recall, AUC\n",
    "from keras.optimizers import Adam\n",
    "from keras.applications.resnet import ResNet50 \n",
    "from keras.layers import Dense, Dropout, Flatten, RandomCrop, Resizing, Rescaling\n",
    "from keras.callbacks import TensorBoard, EarlyStopping\n",
    "import matplotlib.pyplot as plt\n",
    "from sklearn.metrics import confusion_matrix \n"
   ]
  },
  {
   "cell_type": "markdown",
   "metadata": {
    "id": "AYoiWuUMfy0U"
   },
   "source": [
    "# Set configuration variables"
   ]
  },
  {
   "cell_type": "code",
   "execution_count": null,
   "metadata": {
    "id": "Ss8_ElRzwhOn"
   },
   "outputs": [],
   "source": [
    "random.seed(100)\n",
    "np.random.seed(100)\n",
    "tf.random.set_seed(100)"
   ]
  },
  {
   "cell_type": "code",
   "execution_count": null,
   "metadata": {
    "id": "vHO3Xv47wjiQ"
   },
   "outputs": [],
   "source": [
    "train_data_dir = 'dataset/train'\n",
    "test_data_dir = 'dataset/test'"
   ]
  },
  {
   "cell_type": "code",
   "execution_count": null,
   "metadata": {
    "id": "oocgXPJYwmSC"
   },
   "outputs": [],
   "source": [
    "img_width_before_resizing, img_height_before_resizing = 256, 256\n",
    "img_width, img_height = 224, 224\n",
    "batch_size = 32\n",
    "epochs = 50\n",
    "lr = 1e-5"
   ]
  },
  {
   "cell_type": "markdown",
   "metadata": {
    "id": "dnQQx5nQgGiy"
   },
   "source": [
    "## Configure callbacks"
   ]
  },
  {
   "cell_type": "code",
   "execution_count": null,
   "metadata": {
    "id": "-Kde1cub9WhY"
   },
   "outputs": [],
   "source": [
    "logdir = os.path.join(\"logs\")\n",
    "tensorboard_callback = TensorBoard(log_dir=logdir)\n",
    "\n",
    "early_stopping_callback = EarlyStopping(\n",
    "    monitor='val_loss',\n",
    "    patience=10 \n",
    ")"
   ]
  },
  {
   "cell_type": "markdown",
   "metadata": {
    "id": "rMs10q3Ff20k"
   },
   "source": [
    "# Load datasets"
   ]
  },
  {
   "cell_type": "code",
   "execution_count": null,
   "metadata": {
    "colab": {
     "base_uri": "https://localhost:8080/"
    },
    "id": "Sr61V6AB4Lx2",
    "outputId": "202e97e7-f1b5-458e-c1fd-aa0a81c737ac"
   },
   "outputs": [],
   "source": [
    "train_ds = tf.keras.utils.image_dataset_from_directory(\n",
    "  train_data_dir,\n",
    "  validation_split=0.25,\n",
    "  subset=\"training\",\n",
    "  seed=100,\n",
    "  image_size=(img_height_before_resizing, img_width_before_resizing),\n",
    "  batch_size=batch_size)"
   ]
  },
  {
   "cell_type": "code",
   "execution_count": null,
   "metadata": {
    "colab": {
     "base_uri": "https://localhost:8080/"
    },
    "id": "jgE9bgOG4jw8",
    "outputId": "6b1de200-3c9c-456f-e22a-acadb87c8ec5"
   },
   "outputs": [],
   "source": [
    "val_ds = tf.keras.utils.image_dataset_from_directory(\n",
    "  train_data_dir,\n",
    "  validation_split=0.25,\n",
    "  subset=\"validation\",\n",
    "  seed=100,\n",
    "  image_size=(img_height_before_resizing, img_width_before_resizing),\n",
    "  batch_size=batch_size)"
   ]
  },
  {
   "cell_type": "code",
   "execution_count": null,
   "metadata": {
    "colab": {
     "base_uri": "https://localhost:8080/"
    },
    "id": "LdUyl1NX5HUa",
    "outputId": "a4d27a57-d6ab-4a39-8dfc-8889551dc405"
   },
   "outputs": [],
   "source": [
    "test_ds = tf.keras.utils.image_dataset_from_directory(\n",
    "  test_data_dir,\n",
    "  seed=100,\n",
    "  image_size=(img_height_before_resizing, img_width_before_resizing),\n",
    "  batch_size=batch_size\n",
    ")"
   ]
  },
  {
   "cell_type": "markdown",
   "metadata": {
    "id": "IAhW9_65f6Ne"
   },
   "source": [
    "## Print some samples"
   ]
  },
  {
   "cell_type": "code",
   "execution_count": null,
   "metadata": {
    "colab": {
     "background_save": true
    },
    "id": "hCf4exbC5bgX",
    "outputId": "515bf9c1-b27c-41c6-d40c-028915843a90"
   },
   "outputs": [],
   "source": [
    "import matplotlib.pyplot as plt\n",
    "\n",
    "class_names = train_ds.class_names\n",
    "plt.figure(figsize=(10, 10))\n",
    "for images, labels in train_ds.take(1):\n",
    "  for i in range(9):\n",
    "    ax = plt.subplot(3, 3, i + 1)\n",
    "    plt.imshow(images[i].numpy().astype(\"uint8\"))\n",
    "    plt.title(class_names[labels[i]])\n",
    "    plt.axis(\"off\")"
   ]
  },
  {
   "cell_type": "code",
   "execution_count": null,
   "metadata": {
    "colab": {
     "background_save": true
    },
    "id": "ZCvEIRYy6e1-"
   },
   "outputs": [],
   "source": [
    "AUTOTUNE = tf.data.AUTOTUNE\n",
    "\n",
    "train_ds = train_ds.cache().prefetch(buffer_size=AUTOTUNE)\n",
    "val_ds = val_ds.cache().prefetch(buffer_size=AUTOTUNE)\n",
    "test_ds = test_ds.cache().prefetch(buffer_size=AUTOTUNE)"
   ]
  },
  {
   "cell_type": "markdown",
   "metadata": {
    "id": "CtynkBnRgAFy"
   },
   "source": [
    "# Define model"
   ]
  },
  {
   "cell_type": "code",
   "execution_count": null,
   "metadata": {
    "colab": {
     "background_save": true
    },
    "id": "fB85ghkx6n6L"
   },
   "outputs": [],
   "source": [
    "# base_model = ResNet50(input_shape=(img_width, img_height, 3))\n",
    "base_model = ResNet50(weights='imagenet', include_top=False, input_shape=(img_width, img_height, 3))\n",
    "for layer in base_model.layers:\n",
    "    layer.trainable = False"
   ]
  },
  {
   "cell_type": "code",
   "execution_count": null,
   "metadata": {
    "colab": {
     "background_save": true
    },
    "id": "xeAkywG18jh2"
   },
   "outputs": [],
   "source": [
    "# Add new classification layers\n",
    "model = Sequential()\n",
    "model.add(RandomCrop(img_height, img_width, seed=123))\n",
    "model.add(Resizing(img_height, img_width))\n",
    "model.add(Rescaling(1./255, input_shape=(img_height, img_width, 3)))\n",
    "model.add(base_model)\n",
    "model.add(Flatten())\n",
    "model.add(Dense(256, activation='relu'))\n",
    "model.add(Dropout(0.5))\n",
    "model.add(Dense(1, activation='sigmoid'))"
   ]
  },
  {
   "cell_type": "code",
   "execution_count": null,
   "metadata": {
    "colab": {
     "background_save": true
    },
    "id": "YmcRJ6sO6pVD"
   },
   "outputs": [],
   "source": [
    "model.compile(optimizer='adam',\n",
    "              loss='binary_crossentropy',\n",
    "              metrics=['accuracy',\n",
    "                       Precision(name='precision'),\n",
    "                       Recall(name='recall'),\n",
    "                       AUC(name='auc')])"
   ]
  },
  {
   "cell_type": "markdown",
   "metadata": {
    "id": "nM64X1-XgZKK"
   },
   "source": [
    "# Train the model"
   ]
  },
  {
   "cell_type": "code",
   "execution_count": null,
   "metadata": {
    "id": "Pea4Rsiz6tWG"
   },
   "outputs": [],
   "source": [
    "model.fit(train_ds,\n",
    "          validation_data=val_ds,\n",
    "          epochs=epochs,\n",
    "          callbacks=[tensorboard_callback, early_stopping_callback],\n",
    ")"
   ]
  },
  {
   "cell_type": "markdown",
   "metadata": {
    "id": "iC6hmzC2jxTz"
   },
   "source": []
  },
  {
   "cell_type": "markdown",
   "metadata": {
    "id": "qzqt3NbggwTY"
   },
   "source": [
    "# Save the model and visualize training on tensorboard"
   ]
  },
  {
   "cell_type": "code",
   "execution_count": null,
   "metadata": {
    "id": "tTl3cwP-O6PZ"
   },
   "outputs": [],
   "source": [
    "model.save(\"modelV2\")"
   ]
  },
  {
   "cell_type": "code",
   "execution_count": null,
   "metadata": {
    "id": "MveNsTvHO6yB"
   },
   "outputs": [],
   "source": [
    "%load_ext tensorboard\n",
    "%tensorboard --logdir logs"
   ]
  },
  {
   "cell_type": "markdown",
   "metadata": {
    "id": "qz3RXAmIgcoD"
   },
   "source": [
    "# Testing"
   ]
  },
  {
   "cell_type": "code",
   "execution_count": null,
   "metadata": {
    "id": "9O4_uQDueGZ8"
   },
   "outputs": [],
   "source": [
    "loss, acc, prec, rec, auc = model.evaluate(test_ds)\n",
    "y_true_ds = test_ds.map(lambda x, y: y)\n",
    "y_true = np.concatenate(list(y_true_ds.as_numpy_iterator()))\n",
    "\n",
    "y_pred_prob = model.predict(test_ds)\n",
    "y_pred = np.where(y_pred_prob >= 0.5, 1, 0)  \n",
    "\n",
    "# Compute confusion matrix\n",
    "cm = confusion_matrix(y_true, y_pred)\n",
    "\n",
    "# Display the confusion matrix with a plot\n",
    "plt.imshow(cm)\n",
    "plt.title('Confusion matrix')\n",
    "plt.colorbar()\n",
    "plt.xticks([0, 1], class_names)\n",
    "plt.yticks([0, 1], class_names)\n",
    "plt.xlabel('Predicted label')\n",
    "plt.ylabel('True label')\n",
    "plt.show()\n",
    "\n",
    "# Print the evaluation metrics\n",
    "print('Loss: {:.4f}'.format(loss))\n",
    "print('Accuracy: {:.4f}'.format(acc))\n",
    "print('Precision: {:.4f}'.format(prec))\n",
    "print('Recall: {:.4f}'.format(rec))\n",
    "print('AUC: {:.4f}'.format(auc))\n",
    "print('Confusion Matrix: ')\n",
    "print(cm)"
   ]
  },
  {
   "cell_type": "code",
   "execution_count": null,
   "metadata": {},
   "outputs": [],
   "source": []
  },
  {
   "cell_type": "code",
   "execution_count": null,
   "metadata": {},
   "outputs": [],
   "source": []
  },
  {
   "cell_type": "code",
   "execution_count": null,
   "metadata": {},
   "outputs": [],
   "source": []
  }
 ],
 "metadata": {
  "colab": {
   "provenance": []
  },
  "kernelspec": {
   "display_name": "Python 3 (ipykernel)",
   "language": "python",
   "name": "python3"
  },
  "language_info": {
   "codemirror_mode": {
    "name": "ipython",
    "version": 3
   },
   "file_extension": ".py",
   "mimetype": "text/x-python",
   "name": "python",
   "nbconvert_exporter": "python",
   "pygments_lexer": "ipython3",
   "version": "3.7.12"
  }
 },
 "nbformat": 4,
 "nbformat_minor": 4
}
